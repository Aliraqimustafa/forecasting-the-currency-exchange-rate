{
 "cells": [
  {
   "cell_type": "markdown",
   "id": "5e260be2",
   "metadata": {},
   "source": [
    "## Read Data"
   ]
  },
  {
   "cell_type": "code",
   "execution_count": 554,
   "id": "1d9abf5a",
   "metadata": {},
   "outputs": [
    {
     "data": {
      "text/html": [
       "<div>\n",
       "<style scoped>\n",
       "    .dataframe tbody tr th:only-of-type {\n",
       "        vertical-align: middle;\n",
       "    }\n",
       "\n",
       "    .dataframe tbody tr th {\n",
       "        vertical-align: top;\n",
       "    }\n",
       "\n",
       "    .dataframe thead th {\n",
       "        text-align: right;\n",
       "    }\n",
       "</style>\n",
       "<table border=\"1\" class=\"dataframe\">\n",
       "  <thead>\n",
       "    <tr style=\"text-align: right;\">\n",
       "      <th></th>\n",
       "      <th>Date</th>\n",
       "      <th>Price</th>\n",
       "      <th>Open</th>\n",
       "      <th>High</th>\n",
       "      <th>Low</th>\n",
       "      <th>Vol.</th>\n",
       "      <th>Change %</th>\n",
       "    </tr>\n",
       "  </thead>\n",
       "  <tbody>\n",
       "    <tr>\n",
       "      <th>0</th>\n",
       "      <td>09/20/2023</td>\n",
       "      <td>83.238</td>\n",
       "      <td>83.202</td>\n",
       "      <td>83.846</td>\n",
       "      <td>83.164</td>\n",
       "      <td>NaN</td>\n",
       "      <td>-0.09%</td>\n",
       "    </tr>\n",
       "    <tr>\n",
       "      <th>1</th>\n",
       "      <td>09/19/2023</td>\n",
       "      <td>83.310</td>\n",
       "      <td>83.250</td>\n",
       "      <td>83.344</td>\n",
       "      <td>83.170</td>\n",
       "      <td>NaN</td>\n",
       "      <td>0.05%</td>\n",
       "    </tr>\n",
       "    <tr>\n",
       "      <th>2</th>\n",
       "      <td>09/18/2023</td>\n",
       "      <td>83.270</td>\n",
       "      <td>83.106</td>\n",
       "      <td>83.360</td>\n",
       "      <td>83.085</td>\n",
       "      <td>NaN</td>\n",
       "      <td>0.24%</td>\n",
       "    </tr>\n",
       "    <tr>\n",
       "      <th>3</th>\n",
       "      <td>09/15/2023</td>\n",
       "      <td>83.069</td>\n",
       "      <td>83.063</td>\n",
       "      <td>83.202</td>\n",
       "      <td>82.981</td>\n",
       "      <td>NaN</td>\n",
       "      <td>0.07%</td>\n",
       "    </tr>\n",
       "    <tr>\n",
       "      <th>4</th>\n",
       "      <td>09/14/2023</td>\n",
       "      <td>83.010</td>\n",
       "      <td>82.915</td>\n",
       "      <td>83.101</td>\n",
       "      <td>82.913</td>\n",
       "      <td>NaN</td>\n",
       "      <td>0.09%</td>\n",
       "    </tr>\n",
       "  </tbody>\n",
       "</table>\n",
       "</div>"
      ],
      "text/plain": [
       "         Date   Price    Open    High     Low  Vol. Change %\n",
       "0  09/20/2023  83.238  83.202  83.846  83.164   NaN   -0.09%\n",
       "1  09/19/2023  83.310  83.250  83.344  83.170   NaN    0.05%\n",
       "2  09/18/2023  83.270  83.106  83.360  83.085   NaN    0.24%\n",
       "3  09/15/2023  83.069  83.063  83.202  82.981   NaN    0.07%\n",
       "4  09/14/2023  83.010  82.915  83.101  82.913   NaN    0.09%"
      ]
     },
     "execution_count": 554,
     "metadata": {},
     "output_type": "execute_result"
    }
   ],
   "source": [
    "import pandas as pd\n",
    "\n",
    "df = pd.read_csv('USD_INR Historical Data2.csv')\n",
    "df.head()"
   ]
  },
  {
   "cell_type": "code",
   "execution_count": 555,
   "id": "382f9177",
   "metadata": {},
   "outputs": [
    {
     "data": {
      "text/plain": [
       "(709, 7)"
      ]
     },
     "execution_count": 555,
     "metadata": {},
     "output_type": "execute_result"
    }
   ],
   "source": [
    "df.shape"
   ]
  },
  {
   "cell_type": "code",
   "execution_count": 556,
   "id": "aedbcbf5",
   "metadata": {},
   "outputs": [
    {
     "data": {
      "text/plain": [
       "Date         object\n",
       "Price       float64\n",
       "Open        float64\n",
       "High        float64\n",
       "Low         float64\n",
       "Vol.        float64\n",
       "Change %     object\n",
       "dtype: object"
      ]
     },
     "execution_count": 556,
     "metadata": {},
     "output_type": "execute_result"
    }
   ],
   "source": [
    "df.dtypes"
   ]
  },
  {
   "cell_type": "markdown",
   "id": "5b8ade2c",
   "metadata": {},
   "source": [
    "## Preprocessing"
   ]
  },
  {
   "cell_type": "code",
   "execution_count": 557,
   "id": "f63cfe49",
   "metadata": {},
   "outputs": [],
   "source": [
    "df['Date'] = pd.to_datetime(df['Date'])"
   ]
  },
  {
   "cell_type": "code",
   "execution_count": 558,
   "id": "2ec1f974",
   "metadata": {},
   "outputs": [
    {
     "data": {
      "text/plain": [
       "Date        datetime64[ns]\n",
       "Price              float64\n",
       "Open               float64\n",
       "High               float64\n",
       "Low                float64\n",
       "Vol.               float64\n",
       "Change %            object\n",
       "dtype: object"
      ]
     },
     "execution_count": 558,
     "metadata": {},
     "output_type": "execute_result"
    }
   ],
   "source": [
    "df.dtypes"
   ]
  },
  {
   "cell_type": "code",
   "execution_count": 559,
   "id": "1206eaf5",
   "metadata": {},
   "outputs": [
    {
     "data": {
      "text/html": [
       "<div>\n",
       "<style scoped>\n",
       "    .dataframe tbody tr th:only-of-type {\n",
       "        vertical-align: middle;\n",
       "    }\n",
       "\n",
       "    .dataframe tbody tr th {\n",
       "        vertical-align: top;\n",
       "    }\n",
       "\n",
       "    .dataframe thead th {\n",
       "        text-align: right;\n",
       "    }\n",
       "</style>\n",
       "<table border=\"1\" class=\"dataframe\">\n",
       "  <thead>\n",
       "    <tr style=\"text-align: right;\">\n",
       "      <th></th>\n",
       "      <th>Price</th>\n",
       "      <th>Open</th>\n",
       "      <th>High</th>\n",
       "      <th>Low</th>\n",
       "      <th>Vol.</th>\n",
       "    </tr>\n",
       "  </thead>\n",
       "  <tbody>\n",
       "    <tr>\n",
       "      <th>count</th>\n",
       "      <td>709.000000</td>\n",
       "      <td>709.000000</td>\n",
       "      <td>709.000000</td>\n",
       "      <td>709.000000</td>\n",
       "      <td>0.0</td>\n",
       "    </tr>\n",
       "    <tr>\n",
       "      <th>mean</th>\n",
       "      <td>77.873178</td>\n",
       "      <td>77.859629</td>\n",
       "      <td>78.040807</td>\n",
       "      <td>77.716810</td>\n",
       "      <td>NaN</td>\n",
       "    </tr>\n",
       "    <tr>\n",
       "      <th>std</th>\n",
       "      <td>3.770792</td>\n",
       "      <td>3.770455</td>\n",
       "      <td>3.776571</td>\n",
       "      <td>3.773495</td>\n",
       "      <td>NaN</td>\n",
       "    </tr>\n",
       "    <tr>\n",
       "      <th>min</th>\n",
       "      <td>72.380000</td>\n",
       "      <td>72.342000</td>\n",
       "      <td>72.475000</td>\n",
       "      <td>72.268000</td>\n",
       "      <td>NaN</td>\n",
       "    </tr>\n",
       "    <tr>\n",
       "      <th>25%</th>\n",
       "      <td>74.385000</td>\n",
       "      <td>74.383000</td>\n",
       "      <td>74.532000</td>\n",
       "      <td>74.254000</td>\n",
       "      <td>NaN</td>\n",
       "    </tr>\n",
       "    <tr>\n",
       "      <th>50%</th>\n",
       "      <td>77.415000</td>\n",
       "      <td>77.418000</td>\n",
       "      <td>77.548000</td>\n",
       "      <td>77.243000</td>\n",
       "      <td>NaN</td>\n",
       "    </tr>\n",
       "    <tr>\n",
       "      <th>75%</th>\n",
       "      <td>81.982000</td>\n",
       "      <td>81.982000</td>\n",
       "      <td>82.125000</td>\n",
       "      <td>81.869000</td>\n",
       "      <td>NaN</td>\n",
       "    </tr>\n",
       "    <tr>\n",
       "      <th>max</th>\n",
       "      <td>83.310000</td>\n",
       "      <td>83.250000</td>\n",
       "      <td>83.846000</td>\n",
       "      <td>83.177000</td>\n",
       "      <td>NaN</td>\n",
       "    </tr>\n",
       "  </tbody>\n",
       "</table>\n",
       "</div>"
      ],
      "text/plain": [
       "            Price        Open        High         Low  Vol.\n",
       "count  709.000000  709.000000  709.000000  709.000000   0.0\n",
       "mean    77.873178   77.859629   78.040807   77.716810   NaN\n",
       "std      3.770792    3.770455    3.776571    3.773495   NaN\n",
       "min     72.380000   72.342000   72.475000   72.268000   NaN\n",
       "25%     74.385000   74.383000   74.532000   74.254000   NaN\n",
       "50%     77.415000   77.418000   77.548000   77.243000   NaN\n",
       "75%     81.982000   81.982000   82.125000   81.869000   NaN\n",
       "max     83.310000   83.250000   83.846000   83.177000   NaN"
      ]
     },
     "execution_count": 559,
     "metadata": {},
     "output_type": "execute_result"
    }
   ],
   "source": [
    "df.describe()"
   ]
  },
  {
   "cell_type": "code",
   "execution_count": 560,
   "id": "d7b3acfd",
   "metadata": {},
   "outputs": [],
   "source": [
    "df =  df.drop('Vol.',axis=1)"
   ]
  },
  {
   "cell_type": "markdown",
   "id": "f58d09ab",
   "metadata": {},
   "source": [
    "## Data visualization"
   ]
  },
  {
   "cell_type": "code",
   "execution_count": 561,
   "id": "ae6b46ad",
   "metadata": {},
   "outputs": [
    {
     "data": {
      "image/png": "[encoded data removed]",
      "text/plain": [
       "<Figure size 2000x400 with 1 Axes>"
      ]
     },
     "metadata": {},
     "output_type": "display_data"
    }
   ],
   "source": [
    "import matplotlib.pyplot as plt\n",
    "plt.figure(figsize=(20, 4))\n",
    "plt.title(\"INR - USD Exchange Rate\")\n",
    "plt.xlabel(\"Date\")\n",
    "plt.ylabel(\"Close\")\n",
    "plt.plot(df[\"Price\"])\n",
    "plt.show()"
   ]
  },
  {
   "cell_type": "code",
   "execution_count": 562,
   "id": "775af31b",
   "metadata": {},
   "outputs": [
    {
     "data": {
      "image/png": "[encoded data removed]",
      "text/plain": [
       "<Figure size 640x480 with 2 Axes>"
      ]
     },
     "metadata": {},
     "output_type": "display_data"
    }
   ],
   "source": [
    "import seaborn as sns\n",
    "sns.heatmap(df.corr())\n",
    "plt.show()"
   ]
  },
  {
   "cell_type": "markdown",
   "id": "8aa8ab3c",
   "metadata": {},
   "source": [
    "## Set [ data train , data test ]"
   ]
  },
  {
   "cell_type": "code",
   "execution_count": 563,
   "id": "b99342d4",
   "metadata": {},
   "outputs": [],
   "source": [
    "x = df[[\"Open\", \"High\", \"Low\"]]\n",
    "y = df[\"Price\"]\n",
    "x = x.to_numpy()\n",
    "y = y.to_numpy()\n",
    "y = y.reshape(-1, 1)"
   ]
  },
  {
   "cell_type": "code",
   "execution_count": 564,
   "id": "a1612d6d",
   "metadata": {},
   "outputs": [],
   "source": [
    "from sklearn.model_selection import train_test_split\n",
    "xtrain , xtest , ytrain , ytest = train_test_split(x,y,test_size=.2,random_state=43,shuffle=False)"
   ]
  },
  {
   "cell_type": "markdown",
   "id": "4af2a958",
   "metadata": {},
   "source": [
    "## Set up [ Decision Tree ] models"
   ]
  },
  {
   "cell_type": "code",
   "execution_count": 661,
   "id": "6a634cfb",
   "metadata": {},
   "outputs": [],
   "source": [
    "from sklearn.tree import DecisionTreeRegressor\n",
    "model = DecisionTreeRegressor(criterion = 'absolute_error',max_features = 'auto')"
   ]
  },
  {
   "cell_type": "code",
   "execution_count": 662,
   "id": "0a2e804d",
   "metadata": {},
   "outputs": [
    {
     "data": {
      "text/plain": [
       "DecisionTreeRegressor(criterion='absolute_error', max_features='auto')"
      ]
     },
     "execution_count": 662,
     "metadata": {},
     "output_type": "execute_result"
    }
   ],
   "source": [
    "model.fit(xtrain, ytrain)"
   ]
  },
  {
   "cell_type": "code",
   "execution_count": 663,
   "id": "83063a26",
   "metadata": {},
   "outputs": [],
   "source": [
    "ypred = model.predict(xtest)"
   ]
  },
  {
   "cell_type": "markdown",
   "id": "098993cf",
   "metadata": {},
   "source": [
    "## Set up DataFrame for [ predictions ]"
   ]
  },
  {
   "cell_type": "code",
   "execution_count": 664,
   "id": "3df2233e",
   "metadata": {},
   "outputs": [
    {
     "data": {
      "text/html": [
       "<div>\n",
       "<style scoped>\n",
       "    .dataframe tbody tr th:only-of-type {\n",
       "        vertical-align: middle;\n",
       "    }\n",
       "\n",
       "    .dataframe tbody tr th {\n",
       "        vertical-align: top;\n",
       "    }\n",
       "\n",
       "    .dataframe thead th {\n",
       "        text-align: right;\n",
       "    }\n",
       "</style>\n",
       "<table border=\"1\" class=\"dataframe\">\n",
       "  <thead>\n",
       "    <tr style=\"text-align: right;\">\n",
       "      <th></th>\n",
       "      <th>Predicted Rate</th>\n",
       "    </tr>\n",
       "  </thead>\n",
       "  <tbody>\n",
       "    <tr>\n",
       "      <th>0</th>\n",
       "      <td>74.823</td>\n",
       "    </tr>\n",
       "    <tr>\n",
       "      <th>1</th>\n",
       "      <td>74.565</td>\n",
       "    </tr>\n",
       "    <tr>\n",
       "      <th>2</th>\n",
       "      <td>74.427</td>\n",
       "    </tr>\n",
       "    <tr>\n",
       "      <th>3</th>\n",
       "      <td>74.502</td>\n",
       "    </tr>\n",
       "    <tr>\n",
       "      <th>4</th>\n",
       "      <td>74.530</td>\n",
       "    </tr>\n",
       "  </tbody>\n",
       "</table>\n",
       "</div>"
      ],
      "text/plain": [
       "   Predicted Rate\n",
       "0          74.823\n",
       "1          74.565\n",
       "2          74.427\n",
       "3          74.502\n",
       "4          74.530"
      ]
     },
     "execution_count": 664,
     "metadata": {},
     "output_type": "execute_result"
    }
   ],
   "source": [
    "data_pre = pd.DataFrame(data={\"Predicted Rate\": ypred.flatten()})\n",
    "data_pre.head()"
   ]
  },
  {
   "cell_type": "code",
   "execution_count": 665,
   "id": "f693d31b",
   "metadata": {},
   "outputs": [
    {
     "data": {
      "text/plain": [
       "(142, 1)"
      ]
     },
     "execution_count": 665,
     "metadata": {},
     "output_type": "execute_result"
    }
   ],
   "source": [
    "data_pre.shape"
   ]
  },
  {
   "cell_type": "markdown",
   "id": "bd04df8f",
   "metadata": {},
   "source": [
    "## Evaluate by [ R2 score & MSE ]"
   ]
  },
  {
   "cell_type": "code",
   "execution_count": 666,
   "id": "93a53550",
   "metadata": {},
   "outputs": [
    {
     "name": "stdout",
     "output_type": "stream",
     "text": [
      "r2_test : 91.1 %\n",
      "loss_test : 0.05 \n"
     ]
    }
   ],
   "source": [
    "from sklearn.metrics import mean_squared_error\n",
    "from sklearn.metrics import r2_score\n",
    "\n",
    "r2_test = r2_score(data_pre.values.reshape(-1,1),ytest.reshape(-1,1))\n",
    "loss_test = mean_squared_error(data_pre.values.reshape(-1,1),ytest.reshape(-1,1))\n",
    "\n",
    "print(f'r2_test : {round(r2_test*100,1)} %')\n",
    "print(f'loss_test : {round(loss_test,2)} ')"
   ]
  },
  {
   "cell_type": "markdown",
   "id": "d0fc4926",
   "metadata": {},
   "source": [
    "### Evaluate in real world"
   ]
  },
  {
   "cell_type": "code",
   "execution_count": 667,
   "id": "dbf11641",
   "metadata": {},
   "outputs": [],
   "source": [
    "# visti ' https://www.investing.com/currencies/usd-inr-historical-data ' to get data and compare betwwen it and predicted values\n",
    "real = {\n",
    "    'date' : '09/19/2023',\n",
    "    'open' : 83.250 ,\n",
    "    'high' : 83.344,\n",
    "    'low'  : 83.170 ,\n",
    "    'close': 83.310,\n",
    "}\n",
    "real_data = [ real['open'] , real['high'] , real['low']  ]"
   ]
  },
  {
   "cell_type": "code",
   "execution_count": 668,
   "id": "728cb9a4",
   "metadata": {},
   "outputs": [
    {
     "name": "stdout",
     "output_type": "stream",
     "text": [
      "pred_real :  83.31\n",
      "dlta :  0.0\n"
     ]
    }
   ],
   "source": [
    "pred_close = model.predict([real_data])[0]\n",
    "dlta = pred_close - real['close']\n",
    "dlta = round(dlta ,3 )\n",
    "\n",
    "print('pred_real : ', pred_close)\n",
    "print('dlta : ' ,dlta )"
   ]
  },
  {
   "cell_type": "markdown",
   "id": "c1f0006d",
   "metadata": {},
   "source": [
    "## Save model"
   ]
  },
  {
   "cell_type": "code",
   "execution_count": 671,
   "id": "2e88ddd6",
   "metadata": {},
   "outputs": [
    {
     "data": {
      "text/plain": [
       "['Model -- Currency exchange rate prediction --.pkl']"
      ]
     },
     "execution_count": 671,
     "metadata": {},
     "output_type": "execute_result"
    }
   ],
   "source": [
    "import joblib\n",
    "file_path = 'Model -- Currency exchange rate prediction --.pkl'\n",
    "joblib.dump(model, file_path)"
   ]
  },
  {
   "cell_type": "markdown",
   "id": "8e12049f",
   "metadata": {},
   "source": [
    "## Load model"
   ]
  },
  {
   "cell_type": "code",
   "execution_count": 672,
   "id": "8d60a89f",
   "metadata": {},
   "outputs": [],
   "source": [
    "import joblib\n",
    "file_path = 'Model -- Currency exchange rate prediction --.pkl'\n",
    "\n",
    "loaded_model = joblib.load(file_path)"
   ]
  },
  {
   "cell_type": "code",
   "execution_count": 674,
   "id": "ff8537e2",
   "metadata": {},
   "outputs": [
    {
     "name": "stdout",
     "output_type": "stream",
     "text": [
      "83.31\n"
     ]
    }
   ],
   "source": [
    "print(loaded_model.predict([real_data])[0])"
   ]
  },
  {
   "cell_type": "code",
   "execution_count": 689,
   "id": "3bf178b0",
   "metadata": {},
   "outputs": [
    {
     "data": {
      "text/plain": [
       "{'ccp_alpha': 0.0,\n",
       " 'criterion': 'absolute_error',\n",
       " 'max_depth': None,\n",
       " 'max_features': 'auto',\n",
       " 'max_leaf_nodes': None,\n",
       " 'min_impurity_decrease': 0.0,\n",
       " 'min_samples_leaf': 1,\n",
       " 'min_samples_split': 2,\n",
       " 'min_weight_fraction_leaf': 0.0,\n",
       " 'random_state': None,\n",
       " 'splitter': 'best'}"
      ]
     },
     "execution_count": 689,
     "metadata": {},
     "output_type": "execute_result"
    }
   ],
   "source": [
    "model.get_params()"
   ]
  },
  {
   "cell_type": "code",
   "execution_count": null,
   "id": "62bb8817",
   "metadata": {},
   "outputs": [],
   "source": []
  }
 ],
 "metadata": {
  "kernelspec": {
   "display_name": "Python 3 (ipykernel)",
   "language": "python",
   "name": "python3"
  },
  "language_info": {
   "codemirror_mode": {
    "name": "ipython",
    "version": 3
   },
   "file_extension": ".py",
   "mimetype": "text/x-python",
   "name": "python",
   "nbconvert_exporter": "python",
   "pygments_lexer": "ipython3",
   "version": "3.9.13"
  }
 },
 "nbformat": 4,
 "nbformat_minor": 5
}
